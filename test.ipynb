{
 "cells": [
  {
   "cell_type": "code",
   "execution_count": 2,
   "id": "c5ecfbcd-d2cb-43c0-8500-079219fb6f8c",
   "metadata": {},
   "outputs": [
    {
     "name": "stdout",
     "output_type": "stream",
     "text": [
      "\n",
      "===== ✅ Python 答案 =====\n",
      "\n",
      "def carFleet(target, position, speed):\n",
      "    cars = sorted(zip(position, speed), reverse=True)\n",
      "    fleets = 0\n",
      "    time_to_reach = 0\n",
      "    \n",
      "    for pos, spd in cars:\n",
      "        time = (target - pos) / spd\n",
      "        if time > time_to_reach:\n",
      "            fleets += 1\n",
      "            time_to_reach = time\n",
      "            \n",
      "    return fleets\n"
     ]
    }
   ],
   "source": [
    "import requests\n",
    "\n",
    "url = \"http://127.0.0.1:8000/generate\"\n",
    "\n",
    "# 測試用 LeetCode 題目描述\n",
    "question = \"\"\"\n",
    "There are n cars at given miles away from the starting mile 0, traveling to reach the mile target.\n",
    "\n",
    "You are given two integer arrays position and speed, both of length n, where position[i] is the starting mile of the ith car and speed[i] is the speed of the ith car in miles per hour.\n",
    "\n",
    "A car cannot pass another car, but it can catch up and then travel next to it at the speed of the slower car.\n",
    "\n",
    "A car fleet is a single car or a group of cars driving next to each other. The speed of the car fleet is the minimum speed of any car in the fleet.\n",
    "\n",
    "If a car catches up to a car fleet at the mile target, it will still be considered as part of the car fleet.\n",
    "\n",
    "Return the number of car fleets that will arrive at the destination.\n",
    "\n",
    "Example 1:\n",
    "\n",
    "Input: target = 12, position = [10,8,0,5,3], speed = [2,4,1,1,3]\n",
    "Output: 3\n",
    "\"\"\"\n",
    "\n",
    "payload = {\n",
    "    \"question\": question\n",
    "}\n",
    "\n",
    "response = requests.post(url, json=payload)\n",
    "\n",
    "if response.status_code == 200:\n",
    "    data = response.json()\n",
    "    print(\"\\n===== ✅ Python 答案 =====\\n\")\n",
    "    print(data[\"answer\"])\n",
    "    \n",
    "else:\n",
    "    print(f\"❌ 發生錯誤：{response.status_code}\")\n",
    "    print(response.text)"
   ]
  },
  {
   "cell_type": "code",
   "execution_count": null,
   "id": "b3ca06cb-f6df-48ce-811d-9a7cfbbaf983",
   "metadata": {},
   "outputs": [],
   "source": []
  }
 ],
 "metadata": {
  "kernelspec": {
   "display_name": "Python 3 (ipykernel)",
   "language": "python",
   "name": "python3"
  },
  "language_info": {
   "codemirror_mode": {
    "name": "ipython",
    "version": 3
   },
   "file_extension": ".py",
   "mimetype": "text/x-python",
   "name": "python",
   "nbconvert_exporter": "python",
   "pygments_lexer": "ipython3",
   "version": "3.10.3"
  }
 },
 "nbformat": 4,
 "nbformat_minor": 5
}
